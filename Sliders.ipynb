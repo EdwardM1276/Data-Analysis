{
 "cells": [
  {
   "cell_type": "code",
   "execution_count": 12,
   "id": "f5e0c25a",
   "metadata": {},
   "outputs": [],
   "source": [
    "import pandas as pd\n",
    "import plotly.express as px\n",
    "from jupyter_dash import JupyterDash\n",
    "from dash import Dash, dcc, html, Input, Output\n",
    "import dash\n",
    "\n",
    "# Load the dataset\n",
    "df = pd.read_csv(r\"C:\\Users\\gelek\\OneDrive\\Desktop\\shootings.csv\")"
   ]
  },
  {
   "cell_type": "code",
   "execution_count": 19,
   "id": "7f6e1caf",
   "metadata": {},
   "outputs": [],
   "source": [
    "# Create a Dash app\n",
    "app = dash.Dash(__name__)\n",
    "\n",
    "# Define the layout of the app\n",
    "app.layout = html.Div([\n",
    "    html.Label('Select a state:'),\n",
    "    dcc.Dropdown(\n",
    "        id='state-dropdown',\n",
    "        options=[{'label': i, 'value': i} for i in df['state'].unique()],\n",
    "        value='CA'\n",
    "    ),\n",
    "    html.Label('Select a year:'),\n",
    "    dcc.Slider(\n",
    "        id='year-slider',\n",
    "        min=df['age'].min(),\n",
    "        max=df['state'].max(),\n",
    "        value=df['state'].max(),\n",
    "        marks={str(year): str(year) for year in df['age'].unique()}\n",
    "    ),\n",
    "    dcc.Graph(id='scatter-plot')\n",
    "])\n",
    "\n",
    "# Define the callback function\n",
    "@app.callback(\n",
    "    dash.dependencies.Output('scatter-plot', 'figure'),\n",
    "    [dash.dependencies.Input('state-dropdown', 'value'),\n",
    "     dash.dependencies.Input('year-slider', 'value')])\n",
    "def update_figure(state, year):\n",
    "    filtered_df = df[(df['state'] == state) & (df['year'] == year)]\n",
    "    fig = px.scatter(filtered_df, x='longitude', y='latitude', color='gender', hover_name='name')\n",
    "    fig.update_layout(\n",
    "        title='US Police Shootings in {} in {}'.format(state, year),\n",
    "        xaxis_title='Longitude',\n",
    "        yaxis_title='Latitude'\n",
    "    )\n",
    "    return fig\n",
    "\n",
    "# Run the app\n",
    "if __name__ == '34.224.6.230':\n",
    "    app.run_server(debug=True)"
   ]
  }
 ],
 "metadata": {
  "kernelspec": {
   "display_name": "Python 3 (ipykernel)",
   "language": "python",
   "name": "python3"
  },
  "language_info": {
   "codemirror_mode": {
    "name": "ipython",
    "version": 3
   },
   "file_extension": ".py",
   "mimetype": "text/x-python",
   "name": "python",
   "nbconvert_exporter": "python",
   "pygments_lexer": "ipython3",
   "version": "3.9.12"
  }
 },
 "nbformat": 4,
 "nbformat_minor": 5
}
